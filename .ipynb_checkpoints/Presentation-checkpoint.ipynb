{
 "cells": [
  {
   "cell_type": "markdown",
   "metadata": {
    "slideshow": {
     "slide_type": "slide"
    }
   },
   "source": [
    "What’s inside a black hole?\n",
    "\n",
    "    a. An unlimited amount of stuff\n",
    "    b. Nothing at all\n",
    "    c. A huge but finite amount of stuff, which is also outside the black hole\n",
    "    d. None of the above"
   ]
  },
  {
   "cell_type": "markdown",
   "metadata": {
    "slideshow": {
     "slide_type": "slide"
    }
   },
   "source": [
    "# Problems of gravity\n",
    "\n",
    "- non normalizebal\n",
    "-  Black Holes"
   ]
  },
  {
   "cell_type": "markdown",
   "metadata": {
    "slideshow": {
     "slide_type": "slide"
    }
   },
   "source": [
    "# Paradox\n",
    "\n",
    "- Ultraviaolet - > QuantuM Mehcnias\n",
    "\n",
    "- Bkah holes -> Quantum gravity?"
   ]
  },
  {
   "cell_type": "code",
   "execution_count": null,
   "metadata": {},
   "outputs": [],
   "source": []
  },
  {
   "cell_type": "markdown",
   "metadata": {
    "slideshow": {
     "slide_type": "slide"
    }
   },
   "source": [
    "[2] S. W. Hawking, Breakdown of Predicatability in Gravitational Collapse , Phys. Rev. D 14 , 2460 (1976)"
   ]
  },
  {
   "cell_type": "markdown",
   "metadata": {
    "slideshow": {
     "slide_type": "slide"
    }
   },
   "source": [
    "# Black Holes before 1975\n",
    "\n",
    "- No hair theorem:\n",
    "    - Mass, the angular momentum, and the electric charge\n",
    "- \"Simple\" objects"
   ]
  },
  {
   "cell_type": "markdown",
   "metadata": {
    "slideshow": {
     "slide_type": "slide"
    }
   },
   "source": [
    "# 1975 Black Hole Information Loss Problem\n",
    "\n",
    "- Non Unitary evolution\n",
    "\n",
    "- evaporation process is inconsistent with the quantum mechanicalprinciple that pure states always evolve to other pure states. "
   ]
  },
  {
   "cell_type": "markdown",
   "metadata": {
    "slideshow": {
     "slide_type": "slide"
    }
   },
   "source": [
    "No time inverse"
   ]
  },
  {
   "cell_type": "markdown",
   "metadata": {
    "slideshow": {
     "slide_type": "slide"
    }
   },
   "source": [
    "# Black hole radiance\n",
    "\n",
    "- Classically, nothing can escape from a black \n",
    "hole, but quantumly, black holes \n",
    "radiate\n",
    " $$k_B T_{BH} = \\frac{\\hbar c}{4 \\pi R_{BH}}$$\n",
    " \n",
    "- The vacuum state of a quantum field \n",
    "theory is highly entangled"
   ]
  },
  {
   "cell_type": "markdown",
   "metadata": {
    "slideshow": {
     "slide_type": "slide"
    }
   },
   "source": [
    "# Entanglent and evaporation\n",
    "\n",
    "- Hawking particles and missing partners are correlated, so the density matrix describes a mixed quantum state rather than a pure one.\n",
    "\n",
    "![](eva.png)"
   ]
  },
  {
   "cell_type": "markdown",
   "metadata": {
    "slideshow": {
     "slide_type": "slide"
    }
   },
   "source": [
    "# \n",
    "\n",
    "1. remmant? Those would be particle-like, Planck-mass objects, and they could be long-lived or stable. But to contain missing information from an arbitrarily large initial black hole, they would need to have an arbitrarily large number of internal states that describe the possible configurations of the Hawking partners or all the things that could have been thrown into the black hole. ( counting the number of ways the\n",
    "black hole could have formed)\n",
    "\n",
    "2. The  black  hole  finishes  evaporating  into  ordinary  quanta  such  as  photons  and\n",
    "gravitons. "
   ]
  },
  {
   "cell_type": "markdown",
   "metadata": {
    "slideshow": {
     "slide_type": "slide"
    }
   },
   "source": [
    "2. awking argued for option (2), claiming that the process of black hole formation and\n",
    "evaporation cannot be described by a unitary map from the ingoing shell to the outgoing\n",
    "radiation,  since  this  would  have  resulted  in  a  pure  quantum  state  of  the  radiation.\n",
    "Moreover  since  different  initial  states  result  in  the  same  final  state,  he  claimed  that\n",
    "black holes violate the principle of information conservation.  Option (2) is thus usually\n",
    "referred to as\n",
    "information loss\n",
    "."
   ]
  },
  {
   "cell_type": "markdown",
   "metadata": {
    "slideshow": {
     "slide_type": "slide"
    }
   },
   "source": [
    "# Complementarity\n",
    "\n",
    "Black hole complementarity"
   ]
  },
  {
   "cell_type": "code",
   "execution_count": null,
   "metadata": {
    "slideshow": {
     "slide_type": "slide"
    }
   },
   "outputs": [],
   "source": [
    "Equivalnece"
   ]
  },
  {
   "cell_type": "markdown",
   "metadata": {
    "slideshow": {
     "slide_type": "slide"
    }
   },
   "source": [
    "Page 81 of susking book"
   ]
  },
  {
   "cell_type": "markdown",
   "metadata": {},
   "source": [
    "Links: \n",
    "The holographic principle\n",
    "    https://arxiv.org/pdf/hep-th/0203101.pdf\n",
    "    \n",
    "    4.1 in The Black Hole Information Problem\n",
    "    https://arxiv.org/pdf/1609.04036.pdf\n",
    "    \n",
    "   Amps: https://arxiv.org/pdf/1207.3123.pdf\n",
    "   \n",
    "   An Introduction to Black Hole Evaporation\n",
    "   https://arxiv.org/pdf/gr-qc/0010055.pdf\n",
    "   \n",
    "   \n",
    "   Jerusalem School\n",
    "   https://arxiv.org/pdf/1409.1231.pdf\n",
    "   \n",
    "   Sean Carroll give some linmks\n",
    "   \n",
    "   \n",
    "   Black holes and beyond\n",
    "   Samir\n",
    "   \n",
    "   Book\n",
    "   \n",
    "   The holohpragic universe susking\n",
    "   the history of war balckhole sussking\n",
    "        \n",
    "        \n",
    "        \n",
    "MIT vaina\n",
    " The Net Advance of Physics: BLACK HOLES \n",
    "http://web.mit.edu/redingtn/OldFiles/www/netadv/Xblackhole.html\n",
    "\n"
   ]
  },
  {
   "cell_type": "markdown",
   "metadata": {},
   "source": [
    "Mediuma nd natuilius\n",
    "https://www.quantamagazine.org/stephen-hawkings-black-hole-paradox-keeps-physicists-puzzled-20180314/\n",
    "https://www.quantamagazine.org/wormhole-entanglement-and-the-firewall-paradox-20150424/\n",
    "https://www.quantamagazine.org/black-hole-firewalls-confound-theoretical-physicists-20121221/\n"
   ]
  }
 ],
 "metadata": {
  "celltoolbar": "Slideshow",
  "hide_input": false,
  "kernelspec": {
   "display_name": "Python 3",
   "language": "python",
   "name": "python3"
  },
  "language_info": {
   "codemirror_mode": {
    "name": "ipython",
    "version": 3
   },
   "file_extension": ".py",
   "mimetype": "text/x-python",
   "name": "python",
   "nbconvert_exporter": "python",
   "pygments_lexer": "ipython3",
   "version": "3.7.1"
  }
 },
 "nbformat": 4,
 "nbformat_minor": 2
}

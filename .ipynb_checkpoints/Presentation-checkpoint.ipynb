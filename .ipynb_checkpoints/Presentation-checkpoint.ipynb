{
 "cells": [
  {
   "cell_type": "markdown",
   "metadata": {
    "slideshow": {
     "slide_type": "slide"
    }
   },
   "source": [
    "# Quantum Information and Black Holes"
   ]
  },
  {
   "cell_type": "markdown",
   "metadata": {
    "slideshow": {
     "slide_type": "slide"
    }
   },
   "source": [
    "# Black Holes before 1970's\n",
    "\n",
    "- \"Simple\" (no hair) objects:\n",
    " - An stationary BH is characterized by only three quantities: mass, angular momentum, and\n",
    "charge.\n",
    "\n",
    "\n",
    "<img src=\"bhintro.png\" alt=\"Snow\" style=\"width:50%\">\n",
    "\n"
   ]
  },
  {
   "cell_type": "markdown",
   "metadata": {
    "slideshow": {
     "slide_type": "subslide"
    }
   },
   "source": [
    "<h1>Event horizon</h1> \n",
    "\n",
    "- Imagine an astronaut falling onto a BH:\n",
    " - For an outside observer the free falling astronaut asymptotically approaches it\n",
    " - But for the astrounat she plunges impeneded through the event horizon\n",
    "\n",
    "- Point of no return:\n",
    " - All lost and can hold infinite amount of information (entropy)"
   ]
  },
  {
   "cell_type": "markdown",
   "metadata": {
    "slideshow": {
     "slide_type": "subslide"
    }
   },
   "source": [
    "# Black Holes and Thermodynamics \n",
    "\n",
    "- Bekenstein (1973) showed that BH have *finite entropy*:\n",
    "\n",
    "$$S_{BH} = \\frac{Ac^3}{4G \\hbar} = \\frac{1}{4}\\frac{\\text{Area}}{L_{\\text{Planck}}^2}$$\n",
    "\n",
    "- But $dE = T dS$:\n",
    " - All blackbody with non-zero temperature must radiate. \n",
    " - But classically, no matter can escape from a BH $T = 0$"
   ]
  },
  {
   "cell_type": "markdown",
   "metadata": {
    "slideshow": {
     "slide_type": "subslide"
    }
   },
   "source": [
    "# Black Hole Radiation\n",
    "\n",
    "- Hawkins (1974) showed that a distant observer will detect a thermal spectrum:\n",
    "\n",
    "$$k_B T_{BH} = \\frac{\\hbar c}{4 \\pi R_{BH}}$$\n",
    "\n",
    "- Vacuum fluctuations near the event horizon\n",
    "- Unruh effect:\n",
    " - An observer moving with uniform acceleration through Minkowski vacuum observes a thermal spectrum of particles $T_U=\\hbar a/2 \\pi$"
   ]
  },
  {
   "cell_type": "markdown",
   "metadata": {
    "slideshow": {
     "slide_type": "slide"
    }
   },
   "source": [
    "# Breakdown of predictability in gravitation collapse (1975)\n",
    "\n",
    "\n",
    "\n",
    "**what happens to a pure quantum state that collapses to form a black hole which emits approximately themal radiation?**\n",
    "\n",
    "\n",
    "> \"Because part of the information about the state of the system is lost down the hole, the final situation is preresented by a density matrix rather than a pure quantum state.\" "
   ]
  },
  {
   "cell_type": "markdown",
   "metadata": {
    "slideshow": {
     "slide_type": "subslide"
    }
   },
   "source": [
    "Consider a black hole that was formed by a shell of matter in some pure quantum\n",
    "state $|\\Psi>$ As time goes on, the quantum state of the radiation field outside becomes\n",
    "more and more mixed, which we can quantify by saying that its entanglement (Von Neuman) entropy is increasing.\n",
    "\n",
    "<img src=\"eva.png\" alt=\"Snow\" style=\"width:30%\">\n",
    "\n",
    "\n"
   ]
  },
  {
   "cell_type": "markdown",
   "metadata": {
    "slideshow": {
     "slide_type": "subslide"
    }
   },
   "source": [
    "# Options\n",
    "\n",
    "1. Information  is  lost  in  the  manner  that\n",
    "Hawking argued. **non-unitary evolution**\n",
    "2. Unitary evolution: information is carried by the Hawking radiation. **violation of locality**\n",
    "3. A remnant of some sort. **Huge entanglement entropy** \n"
   ]
  },
  {
   "cell_type": "markdown",
   "metadata": {
    "slideshow": {
     "slide_type": "slide"
    }
   },
   "source": [
    "# Lets save unitary\n",
    "\n",
    "-  there\n",
    "is a unitary map between the initial state of the collapse to the\n",
    "fi\n",
    "nal state of the\n",
    "outgoing radiation.The final state\n",
    "of the radiation becomes puri\n",
    "fi\n",
    "ed and information is carried out with the\n",
    "Hawking radiation in subtle quantum correlations between late and early\n",
    "particles\n",
    "\n"
   ]
  },
  {
   "cell_type": "markdown",
   "metadata": {
    "slideshow": {
     "slide_type": "subslide"
    }
   },
   "source": [
    "# Evolution of Black Hole Evaporation (Page Curve)\n",
    "\n",
    "\n",
    "**Final state\n",
    "of the radiation becomes purified and information is carried out with the\n",
    "Hawking radiation in subtle quantum correlations between late and early\n",
    "particles**\n",
    "\n",
    "\n",
    "![](page2.png)\n"
   ]
  },
  {
   "cell_type": "markdown",
   "metadata": {
    "slideshow": {
     "slide_type": "subslide"
    }
   },
   "source": [
    "## The Stretched Horizon and Black Hole Complementarity '93\n",
    "\n",
    "$$H_{sys} \\neq H_{BH} \\bigotimes H_{rad}$$\n",
    "\n",
    "1. **Unitary**: A distant observer sees a unitary S-matrix, which  describes black hole evolution from infalling matter to outgoing  Hawking-like radiation within standard quantum  \n",
    "\n",
    "2. **EFT:** Outside the stretched horizon, physics can be described by an effective field theory of Einstein gravity plus matter.\n",
    "\n",
    "\n",
    "3. The dimension of the subspace of states describing a black \n",
    "hole of mass \n",
    "M\n",
    " is exp $S_{BH}(M)$\n",
    " \n",
    "4. **No Drama**: A freely falling observer experiences nothing out \n",
    "of the ordinary when crossing the horizon.\n"
   ]
  },
  {
   "cell_type": "markdown",
   "metadata": {
    "slideshow": {
     "slide_type": "subslide"
    }
   },
   "source": [
    "# The World as a Hologram (1994)\n",
    "\n",
    "**Holographic Principle and its embodiment\n",
    "in AdS space**\n",
    "\n",
    "- External observer perceives the horizon as a dynamical \n",
    "membrane which re-radiates radiation, while infalling \n",
    "observer passes through freely.\n"
   ]
  },
  {
   "cell_type": "markdown",
   "metadata": {
    "slideshow": {
     "slide_type": "subslide"
    }
   },
   "source": [
    "# Problems with complementarity\n",
    "\n",
    "- Copy of information inside and *also* enconded in the later radiation\n",
    " - End of locality\n",
    "- Justified since no observer can see both copies"
   ]
  },
  {
   "cell_type": "markdown",
   "metadata": {
    "slideshow": {
     "slide_type": "subslide"
    }
   },
   "source": [
    "# More problems with complementarity:\n",
    "\n",
    "<img src=\"page3.png\" alt=\"Snow\" style=\"width:20%\">\n"
   ]
  },
  {
   "cell_type": "markdown",
   "metadata": {
    "slideshow": {
     "slide_type": "subslide"
    }
   },
   "source": [
    "# Monogamy is dead\n",
    "\n",
    "- **Unitary (Page Curve)**: Early and late radiation entangled\n",
    "- **No drama**: Outgoing photon and ingoing photon are entangled "
   ]
  },
  {
   "cell_type": "markdown",
   "metadata": {
    "slideshow": {
     "slide_type": "subslide"
    }
   },
   "source": [
    "# AMPS\n",
    "\n",
    "- All three statements are not valid\n",
    "- What to give up?\n",
    " - Keep unitary and kill equivalence principle\n",
    "- Firewall = stretched horizon, except you  can’t fall through it."
   ]
  },
  {
   "cell_type": "markdown",
   "metadata": {
    "slideshow": {
     "slide_type": "slide"
    }
   },
   "source": [
    "# Other alternatives\n",
    "\n",
    "## ER = EPR ( Maldacena-Susskind 2013)\n",
    "\n",
    "\n",
    "<img src=\"worm.jpg\" alt=\"Snow\" style=\"width:50%\">\n"
   ]
  },
  {
   "cell_type": "markdown",
   "metadata": {
    "slideshow": {
     "slide_type": "slide"
    }
   },
   "source": [
    "# Conclusion\n",
    "\n",
    "What’s inside a black hole?\n",
    "\n",
    "    a. An unlimited amount of stuff\n",
    "    b. Nothing at all\n",
    "    c. A huge but finite amount of stuff, which is also outside the black hole\n",
    "    d. None of the above"
   ]
  },
  {
   "cell_type": "markdown",
   "metadata": {
    "slideshow": {
     "slide_type": "subslide"
    }
   },
   "source": [
    "# Conclusion\n",
    "\n",
    "What’s inside a black hole?\n",
    "\n",
    "    a. An unlimited amount of stuff\n",
    "    b. Nothing at all\n",
    "    c. A huge but finite amount of stuff, which is also outside the black hole\n",
    "    d. None of the above"
   ]
  },
  {
   "cell_type": "code",
   "execution_count": null,
   "metadata": {
    "slideshow": {
     "slide_type": "subslide"
    }
   },
   "outputs": [],
   "source": []
  },
  {
   "cell_type": "code",
   "execution_count": null,
   "metadata": {},
   "outputs": [],
   "source": []
  },
  {
   "cell_type": "code",
   "execution_count": null,
   "metadata": {},
   "outputs": [],
   "source": []
  },
  {
   "cell_type": "code",
   "execution_count": null,
   "metadata": {},
   "outputs": [],
   "source": []
  },
  {
   "cell_type": "code",
   "execution_count": null,
   "metadata": {
    "slideshow": {
     "slide_type": "notes"
    }
   },
   "outputs": [],
   "source": []
  },
  {
   "cell_type": "code",
   "execution_count": null,
   "metadata": {
    "slideshow": {
     "slide_type": "notes"
    }
   },
   "outputs": [],
   "source": [
    "at  the  beginning  of  the\n",
    "evaporation process the radiation that comes out is entangled with the remaining black\n",
    "hole.   But  eventually  it  must  start  coming  out  entangled  with  the  earlier  radiation,\n",
    "since eventually the final state of the radiation must be pure.  It is only once we are\n",
    "past  the  Page  time  that  we  can  think  of  the  quantum  information  about  the  initial\n",
    "state as having started to come out."
   ]
  },
  {
   "cell_type": "markdown",
   "metadata": {
    "slideshow": {
     "slide_type": "notes"
    }
   },
   "source": [
    "#Porpositons\n",
    "\n",
    "second is:\n",
    "    \n",
    "    semiclassical gravity so quantum field theor in space time\n",
    "    \n",
    "    Complemetary susskinkld an t'Hooft and preskill 1993\n",
    "\n",
    "he dynamics at the horizon copies the spin as it falls in and sends the copy out with the later Hawking radiation. However, such copying is not consistent with the superposition principle of quantum mechanics; this is known as the no-cloning theorem. \n",
    "\n",
    "\n",
    "an outside observer can effectively describe the black\n",
    "hole  as  a  heated  membrane  situated  just  above  the  event  horizon. This\n",
    "membrane  has  a  finite  number  of  degrees  of  freedom,  given  by  the Be- kenstein  entropy  of  the  black  hole,  and  an  area  one  Planck  unit  ($10^{-66}$cm$^2$ larger  than  the  event  horizon.  any   infalling   information   will   interact   violently   with   this   heated membrane, and will eventually be reemitted to the exterior universe, thus keeping the late-time state pure.\n",
    "\n",
    "\n",
    "\n",
    "No different subsystem. Inside and outside viewpoint.\n",
    "\n",
    "\n",
    "External observer perceives the horizon as a dynamical \n",
    "membrane which re-radiates radiation, while infalling \n",
    "observer passes through freely\n",
    "\n",
    "\n",
    "\n",
    "\n",
    "Some tests:\n",
    "\n",
    "Infalling observer \n",
    "sees bit inside, asymptotic observer sees same bit \n",
    "outside, no one sees both (would violate linearity of \n",
    "quantum mechanics)."
   ]
  },
  {
   "cell_type": "markdown",
   "metadata": {
    "slideshow": {
     "slide_type": "notes"
    }
   },
   "source": [
    "# Page cuve and Hayden and Preskill\n",
    "\n",
    "Black holes as mirrors:\n",
    "\n",
    "\n",
    "at  the  beginning  of  the\n",
    "evaporation process the radiation that comes out is entangled with the remaining black\n",
    "hole.   But  eventually  it  must  start  coming  out  entangled  with  the  earlier  radiation,\n",
    "since eventually the final state of the radiation must be pure.  It is only once we are\n",
    "past  the  Page  time  that  we  can  think  of  the  quantum  information  about  the  initial\n",
    "state as having started to come out.\n",
    "\n",
    "\n",
    "Analogy with lighting a piece of coal and letting it burn out completely.  At the\n",
    "instant we light the charcoal, there is no radiation and the coal is in a highly\n",
    "excited state.  Then for a long time the quantum state of the coal is correlated\n",
    "with that of outgoing radiation.  At the end, the ashes cool down to their ground\n",
    "state.  Since this state is unique, and since the evolution is unitary, the quantum\n",
    "electromagnetic field is also in a pure state.  For photons, the correlations that\n",
    "seemed to be lost early-on are restored at late times by long wave length modes."
   ]
  },
  {
   "cell_type": "markdown",
   "metadata": {
    "slideshow": {
     "slide_type": "notes"
    }
   },
   "source": [
    "# The World as a Hologram (1994)\n",
    "\n",
    "**Holographic Principle and its embodiment\n",
    "in AdS space**\n",
    "\n",
    " black hole is dual to an ordinary \n",
    "thermal system, obeying the ordinary laws of quantum \n",
    "mechanics and apparently inconsistent with remnants.  And \n",
    "indeed, the holographic construction of the gravitational \n",
    "theory is fundamentally nonlocal."
   ]
  },
  {
   "cell_type": "code",
   "execution_count": 4,
   "metadata": {
    "slideshow": {
     "slide_type": "notes"
    }
   },
   "outputs": [
    {
     "ename": "SyntaxError",
     "evalue": "invalid syntax (<ipython-input-4-2b26a7112566>, line 1)",
     "output_type": "error",
     "traceback": [
      "\u001b[0;36m  File \u001b[0;32m\"<ipython-input-4-2b26a7112566>\"\u001b[0;36m, line \u001b[0;32m1\u001b[0m\n\u001b[0;31m    Anti de sitter space constant negative co\\urvature\u001b[0m\n\u001b[0m          ^\u001b[0m\n\u001b[0;31mSyntaxError\u001b[0m\u001b[0;31m:\u001b[0m invalid syntax\n"
     ]
    }
   ],
   "source": [
    "Anti de sitter space constant negative co\\urvature"
   ]
  },
  {
   "cell_type": "markdown",
   "metadata": {
    "slideshow": {
     "slide_type": "notes"
    }
   },
   "source": [
    "# Ads/CFT\n",
    "\n",
    " This is consistent too with the argument that locality must be fundamentally lost: the dual picture is holographic, formulated in terms of field theory degrees of freedom that are projected on the boundary of the space rather than living inside it. Indeed, the miracle here is that gravitational physics looks local at all, not that this sometimes fails."
   ]
  },
  {
   "cell_type": "markdown",
   "metadata": {
    "slideshow": {
     "slide_type": "notes"
    }
   },
   "source": [
    "# Monogamy\n",
    "\n",
    "Back poage curve and the asusumption\n",
    "\n",
    "and throw\n",
    "q\n",
    "2\n",
    "in.  Information conservation implies that the state of\n",
    "q\n",
    "2\n",
    "is eventually carried\n",
    "by the later Hawking radiation:  this bit\n",
    "q\n",
    "3\n",
    "encoded in the later radiation is also entangled\n",
    "with\n",
    "q\n",
    "1\n",
    ".  The problem is that there is a nice slice containing all three bits\n",
    "q\n",
    "1\n",
    ",q\n",
    "2\n",
    ",q\n",
    "3\n",
    ", so strong\n",
    "subadditivity is violated for the state on this slice.  That is,\n",
    "q\n",
    "1\n",
    "and\n",
    "q\n",
    "2\n",
    "are together in a pure\n",
    "state, so\n",
    "q\n",
    "1\n",
    "cannot be entangled with the later emitted mode\n",
    "q\n",
    "3\n",
    ".\n"
   ]
  },
  {
   "cell_type": "markdown",
   "metadata": {
    "slideshow": {
     "slide_type": "notes"
    }
   },
   "source": [
    "# MNOnogamy\n",
    "\n",
    "![](mono.png)\n",
    "\n",
    "\n",
    "http://qpt.physics.harvard.edu/simons/Polchinski.pdf\n",
    "\n",
    "15 y 16"
   ]
  },
  {
   "cell_type": "markdown",
   "metadata": {
    "slideshow": {
     "slide_type": "notes"
    }
   },
   "source": [
    "# Firewall and no equivalence principle\n",
    "\n",
    "\n",
    "##More conservative to drop equivalence\n",
    "\n",
    "firewall = stretched horizon, except you \n",
    "can’t fall through it."
   ]
  },
  {
   "cell_type": "markdown",
   "metadata": {
    "slideshow": {
     "slide_type": "notes"
    }
   },
   "source": [
    "# ER =EPR\n",
    "\n",
    "Sussking Maldacena 2013"
   ]
  },
  {
   "cell_type": "markdown",
   "metadata": {
    "slideshow": {
     "slide_type": "notes"
    }
   },
   "source": [
    "# \n",
    "\n",
    "1. remmant? Those would be particle-like, Planck-mass objects, and they could be long-lived or stable. But to contain missing information from an arbitrarily large initial black hole, they would need to have an arbitrarily large number of internal states that describe the possible configurations of the Hawking partners or all the things that could have been thrown into the black hole. ( counting the number of ways the\n",
    "black hole could have formed)\n",
    "\n",
    "2. The  black  hole  finishes  evaporating  into  ordinary  quanta  such  as  photons  and\n",
    "gravitons. "
   ]
  },
  {
   "cell_type": "markdown",
   "metadata": {
    "slideshow": {
     "slide_type": "notes"
    }
   },
   "source": [
    "2. awking argued for option (2), claiming that the process of black hole formation and\n",
    "evaporation cannot be described by a unitary map from the ingoing shell to the outgoing\n",
    "radiation,  since  this  would  have  resulted  in  a  pure  quantum  state  of  the  radiation.\n",
    "Moreover  since  different  initial  states  result  in  the  same  final  state,  he  claimed  that\n",
    "black holes violate the principle of information conservation.  Option (2) is thus usually\n",
    "referred to as\n",
    "information loss\n",
    "."
   ]
  },
  {
   "cell_type": "markdown",
   "metadata": {
    "slideshow": {
     "slide_type": "notes"
    }
   },
   "source": [
    "Page 81 of susking book\n",
    "\n",
    "he early photons from the coal are entangled with excitations inside,  but the latter can\n",
    "imprint their quantum state onto later outgoing photons.  With the black hole, the internal\n",
    "excitations are behind the horizon, and cannot influence the state of later photons."
   ]
  },
  {
   "cell_type": "markdown",
   "metadata": {
    "slideshow": {
     "slide_type": "notes"
    }
   },
   "source": [
    "Links: \n",
    "The holographic principle\n",
    "    https://arxiv.org/pdf/hep-th/0203101.pdf\n",
    "    \n",
    "    4.1 in The Black Hole Information Problem\n",
    "    https://arxiv.org/pdf/1609.04036.pdf\n",
    "    \n",
    "   Amps: https://arxiv.org/pdf/1207.3123.pdf\n",
    "   \n",
    "   An Introduction to Black Hole Evaporation\n",
    "   https://arxiv.org/pdf/gr-qc/0010055.pdf\n",
    "   \n",
    "   \n",
    "   Jerusalem School\n",
    "   https://arxiv.org/pdf/1409.1231.pdf\n",
    "   \n",
    "   Sean Carroll give some linmks\n",
    "   \n",
    "   \n",
    "   Black holes and beyond\n",
    "   Samir\n",
    "   \n",
    "   Book\n",
    "   \n",
    "   The holohpragic universe susking\n",
    "   the history of war balckhole sussking\n",
    "        \n",
    "        \n",
    "        \n",
    "MIT vaina\n",
    " The Net Advance of Physics: BLACK HOLES \n",
    "http://web.mit.edu/redingtn/OldFiles/www/netadv/Xblackhole.html\n",
    "\n",
    "\n",
    "# http://qpt.physics.harvard.edu/simons/Polchinski.pdf"
   ]
  },
  {
   "cell_type": "markdown",
   "metadata": {
    "slideshow": {
     "slide_type": "notes"
    }
   },
   "source": [
    "Mediuma nd natuilius\n",
    "https://www.quantamagazine.org/stephen-hawkings-black-hole-paradox-keeps-physicists-puzzled-20180314/\n",
    "https://www.quantamagazine.org/wormhole-entanglement-and-the-firewall-paradox-20150424/\n",
    "https://www.quantamagazine.org/black-hole-firewalls-confound-theoretical-physicists-20121221/\n"
   ]
  }
 ],
 "metadata": {
  "celltoolbar": "Slideshow",
  "hide_input": false,
  "kernelspec": {
   "display_name": "Python 3",
   "language": "python",
   "name": "python3"
  },
  "language_info": {
   "codemirror_mode": {
    "name": "ipython",
    "version": 3
   },
   "file_extension": ".py",
   "mimetype": "text/x-python",
   "name": "python",
   "nbconvert_exporter": "python",
   "pygments_lexer": "ipython3",
   "version": "3.7.1"
  }
 },
 "nbformat": 4,
 "nbformat_minor": 2
}

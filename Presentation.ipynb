{
 "cells": [
  {
   "cell_type": "markdown",
   "metadata": {
    "slideshow": {
     "slide_type": "slide"
    }
   },
   "source": [
    "# Black Holes before 1970's\n",
    "\n",
    "- \"Simple\" (no hair) objects:\n",
    " - An stationary BH is characterized by only three quantities: mass, angular momentum, and\n",
    "charge.\n",
    "\n",
    "\n",
    "\n",
    "\n",
    "![](bhintro.png)\n"
   ]
  },
  {
   "cell_type": "markdown",
   "metadata": {
    "slideshow": {
     "slide_type": "slide"
    }
   },
   "source": [
    "<h1>Event horizon</h1> \n",
    "\n",
    "- Imagine an astronaut falling onto a BH:\n",
    " - For an outside observer the free falling astronaut asymptotically approaches it\n",
    " - But for the astrounat she plunges impeneded through the event horizon\n",
    "\n",
    "- Point of no return:\n",
    " - All lost and can hold infinite amount of information (entropy)"
   ]
  },
  {
   "cell_type": "markdown",
   "metadata": {
    "slideshow": {
     "slide_type": "slide"
    }
   },
   "source": [
    "# Black Holes and Thermodynamics \n",
    "\n",
    "- Bekenstein (1973) showed that BH have *finite entropy*:\n",
    "\n",
    "$$S_{BH} = \\frac{Ac^3}{4G \\hbar} = \\frac{1}{4}\\frac{\\text{Area}}{L_{\\text{Planck}}^2}$$\n",
    "\n",
    "- But $dE = T dS$:\n",
    " - All blackbody with non-zero temperature must radiate. \n",
    " - But classically, no matter can escape from a BH $T = 0$"
   ]
  },
  {
   "cell_type": "markdown",
   "metadata": {
    "slideshow": {
     "slide_type": "slide"
    }
   },
   "source": [
    "# Black Hole Radiation\n",
    "\n",
    "- Hawkins (1974) showed that a distant observer will detect a thermal spectrum:\n",
    "\n",
    "$$k_B T_{BH} = \\frac{\\hbar c}{4 \\pi R_{BH}}$$\n",
    "\n",
    "- Vacuum fluctuations near the event horizon\n",
    "- Unruh effect:\n",
    " - An observer moving with uniform acceleration through Minkowski vacuum observes a thermal spectrum of particles"
   ]
  },
  {
   "cell_type": "markdown",
   "metadata": {
    "slideshow": {
     "slide_type": "slide"
    }
   },
   "source": [
    "# Breakdown of predictability in gravitation collapse (1975)\n",
    "\n",
    "\n",
    "\n",
    "**what happens to a pure quantum state that collapses to form a black hole which emits approximately themal radiation?**\n",
    "\n",
    "\n",
    "> \"Because part of the information about the state of the system is lost down the hole, the final situation is preresented bt a density matrix rather than a pure quantum state.\" "
   ]
  },
  {
   "cell_type": "markdown",
   "metadata": {
    "slideshow": {
     "slide_type": "subslide"
    }
   },
   "source": [
    "\n",
    "A pure quantum state (with lots of information) has evolved to a mixed quantum state (with lots of missing information)\n",
    "\n",
    "![](eva.png)"
   ]
  },
  {
   "cell_type": "markdown",
   "metadata": {},
   "source": [
    "  (1)  that  information  is  lost  in  the  manner  that\n",
    "Hawking argued, (2) that the information is carried by the Hawking radiation, as it would\n",
    "be for an ordinary thermal object, or (3) a remnant of some sort. "
   ]
  },
  {
   "cell_type": "code",
   "execution_count": null,
   "metadata": {},
   "outputs": [],
   "source": [
    "To get the information out\n",
    "with the Hawking radiation,  it seems that effective field theory must break down even in\n",
    "regions where curvatures are small."
   ]
  },
  {
   "cell_type": "markdown",
   "metadata": {
    "slideshow": {
     "slide_type": "slide"
    }
   },
   "source": [
    "# Information loss: pure to mixed\n",
    "\n",
    "Alternatives:\n",
    "\n",
    "- Complementartity"
   ]
  },
  {
   "cell_type": "markdown",
   "metadata": {},
   "source": [
    "# Lets save unitary"
   ]
  },
  {
   "cell_type": "markdown",
   "metadata": {
    "slideshow": {
     "slide_type": "slide"
    }
   },
   "source": [
    "# The Stretched Horizon and Black Hole Complementarity 93\n",
    "\n",
    "\n",
    "Complemetary susskinkld an t'Hooft and preskill 1993\n",
    "\n",
    "he dynamics at the horizon copies the spin as it falls in and sends the copy out with the later Hawking radiation. However, such copying is not consistent with the superposition principle of quantum mechanics; this is known as the no-cloning theorem. \n",
    "\n",
    "\n",
    "an outside observer can effectively describe the black\n",
    "hole  as  a  heated  membrane  situated  just  above  the  event  horizon. This\n",
    "membrane  has  a  finite  number  of  degrees  of  freedom,  given  by  the Be- kenstein  entropy  of  the  black  hole,  and  an  area  one  Planck  unit  ($10^{-66}$cm$^2$ larger  than  the  event  horizon.  any   infalling   information   will   interact   violently   with   this   heated membrane, and will eventually be reemitted to the exterior universe, thus keeping the late-time state pure.\n",
    "\n",
    "\n",
    "\n",
    "No different subsystem. Inside and outside viewpoint.\n",
    "\n",
    "\n",
    "External observer perceives the horizon as a dynamical \n",
    "membrane which re-radiates radiation, while infalling \n",
    "observer passes through freely\n",
    "\n",
    "\n",
    "\n",
    "\n",
    "Some tests:\n",
    "\n",
    "Infalling observer \n",
    "sees bit inside, asymptotic observer sees same bit \n",
    "outside, no one sees both (would violate linearity of \n",
    "quantum mechanics)."
   ]
  },
  {
   "cell_type": "markdown",
   "metadata": {},
   "source": [
    "second is:\n",
    "    \n",
    "    semiclassical gravity so quantum field theor in space time"
   ]
  },
  {
   "cell_type": "markdown",
   "metadata": {},
   "source": [
    "# The World as a Hologram (1994)\n",
    "\n",
    "**Holographic Principle and its embodiment\n",
    "in AdS space**\n",
    "\n",
    " black hole is dual to an ordinary \n",
    "thermal system, obeying the ordinary laws of quantum \n",
    "mechanics and apparently inconsistent with remnants.  And \n",
    "indeed, the holographic construction of the gravitational \n",
    "theory is fundamentally nonlocal."
   ]
  },
  {
   "cell_type": "markdown",
   "metadata": {},
   "source": [
    "# Ads/CFT\n",
    "\n",
    " This is consistent too with the argument that locality must be fundamentally lost: the dual picture is holographic, formulated in terms of field theory degrees of freedom that are projected on the boundary of the space rather than living inside it. Indeed, the miracle here is that gravitational physics looks local at all, not that this sometimes fails."
   ]
  },
  {
   "cell_type": "markdown",
   "metadata": {},
   "source": [
    "# AMPS or Firewall\n",
    "\n",
    "Claim all three cant be true"
   ]
  },
  {
   "cell_type": "markdown",
   "metadata": {},
   "source": [
    "# Monogamy\n",
    "and throw\n",
    "q\n",
    "2\n",
    "in.  Information conservation implies that the state of\n",
    "q\n",
    "2\n",
    "is eventually carried\n",
    "by the later Hawking radiation:  this bit\n",
    "q\n",
    "3\n",
    "encoded in the later radiation is also entangled\n",
    "with\n",
    "q\n",
    "1\n",
    ".  The problem is that there is a nice slice containing all three bits\n",
    "q\n",
    "1\n",
    ",q\n",
    "2\n",
    ",q\n",
    "3\n",
    ", so strong\n",
    "subadditivity is violated for the state on this slice.  That is,\n",
    "q\n",
    "1\n",
    "and\n",
    "q\n",
    "2\n",
    "are together in a pure\n",
    "state, so\n",
    "q\n",
    "1\n",
    "cannot be entangled with the later emitted mode\n",
    "q\n",
    "3\n",
    ".\n"
   ]
  },
  {
   "cell_type": "markdown",
   "metadata": {},
   "source": [
    "# Firewall and no equivalence principle\n",
    "\n",
    "firewall = stretched horizon, except you \n",
    "can’t fall through it."
   ]
  },
  {
   "cell_type": "markdown",
   "metadata": {},
   "source": [
    "# ER =EPR\n",
    "\n",
    "Sussking Maldacena 2013"
   ]
  },
  {
   "cell_type": "code",
   "execution_count": null,
   "metadata": {},
   "outputs": [],
   "source": []
  },
  {
   "cell_type": "code",
   "execution_count": 1,
   "metadata": {},
   "outputs": [],
   "source": [
    "# Dynamical ssyetm\n",
    "\n",
    "Bekenstein 1973\n",
    "\n",
    "laws"
   ]
  },
  {
   "cell_type": "code",
   "execution_count": null,
   "metadata": {},
   "outputs": [],
   "source": [
    "# indeed Temperature\n",
    "\n",
    "1974"
   ]
  },
  {
   "cell_type": "code",
   "execution_count": null,
   "metadata": {},
   "outputs": [],
   "source": []
  },
  {
   "cell_type": "code",
   "execution_count": null,
   "metadata": {},
   "outputs": [],
   "source": []
  },
  {
   "cell_type": "code",
   "execution_count": null,
   "metadata": {},
   "outputs": [],
   "source": [
    "What’s inside a black hole?\n",
    "\n",
    "    a. An unlimited amount of stuff\n",
    "    b. Nothing at all\n",
    "    c. A huge but finite amount of stuff, which is also outside the black hole\n",
    "    d. None of the above"
   ]
  },
  {
   "cell_type": "code",
   "execution_count": null,
   "metadata": {},
   "outputs": [],
   "source": []
  },
  {
   "cell_type": "code",
   "execution_count": null,
   "metadata": {},
   "outputs": [],
   "source": []
  },
  {
   "cell_type": "code",
   "execution_count": null,
   "metadata": {},
   "outputs": [],
   "source": []
  },
  {
   "cell_type": "code",
   "execution_count": null,
   "metadata": {},
   "outputs": [],
   "source": []
  },
  {
   "cell_type": "code",
   "execution_count": null,
   "metadata": {},
   "outputs": [],
   "source": []
  },
  {
   "cell_type": "code",
   "execution_count": null,
   "metadata": {},
   "outputs": [],
   "source": []
  },
  {
   "cell_type": "markdown",
   "metadata": {
    "slideshow": {
     "slide_type": "slide"
    }
   },
   "source": [
    "# Problems of gravity\n",
    "\n",
    "- non normalizebal\n",
    "-  Black Holes"
   ]
  },
  {
   "cell_type": "markdown",
   "metadata": {
    "slideshow": {
     "slide_type": "slide"
    }
   },
   "source": [
    "# Paradox\n",
    "\n",
    "- Ultraviaolet - > QuantuM Mehcnias\n",
    "\n",
    "- Bkah holes -> Quantum gravity?"
   ]
  },
  {
   "cell_type": "code",
   "execution_count": null,
   "metadata": {},
   "outputs": [],
   "source": []
  },
  {
   "cell_type": "markdown",
   "metadata": {
    "slideshow": {
     "slide_type": "slide"
    }
   },
   "source": [
    "[2] S. W. Hawking, Breakdown of Predicatability in Gravitational Collapse , Phys. Rev. D 14 , 2460 (1976)"
   ]
  },
  {
   "cell_type": "markdown",
   "metadata": {
    "slideshow": {
     "slide_type": "slide"
    }
   },
   "source": [
    "# Black Holes before 1975\n",
    "\n",
    "- No hair theorem:\n",
    "    - Mass, the angular momentum, and the electric charge\n",
    "- \"Simple\" objects"
   ]
  },
  {
   "cell_type": "markdown",
   "metadata": {
    "slideshow": {
     "slide_type": "slide"
    }
   },
   "source": [
    "# 1975 Black Hole Information Loss Problem\n",
    "\n",
    "- Non Unitary evolution\n",
    "\n",
    "- evaporation process is inconsistent with the quantum mechanicalprinciple that pure states always evolve to other pure states. "
   ]
  },
  {
   "cell_type": "markdown",
   "metadata": {
    "slideshow": {
     "slide_type": "slide"
    }
   },
   "source": [
    "No time inverse"
   ]
  },
  {
   "cell_type": "markdown",
   "metadata": {
    "slideshow": {
     "slide_type": "slide"
    }
   },
   "source": [
    "# Black hole radiance\n",
    "\n",
    "- Classically, nothing can escape from a black \n",
    "hole, but quantumly, black holes \n",
    "radiate\n",
    " $$k_B T_{BH} = \\frac{\\hbar c}{4 \\pi R_{BH}}$$\n",
    " \n",
    "- The vacuum state of a quantum field \n",
    "theory is highly entangled"
   ]
  },
  {
   "cell_type": "markdown",
   "metadata": {
    "slideshow": {
     "slide_type": "slide"
    }
   },
   "source": [
    "# Entanglent and evaporation\n",
    "\n",
    "- Hawking particles and missing partners are correlated, so the density matrix describes a mixed quantum state rather than a pure one.\n",
    "\n"
   ]
  },
  {
   "cell_type": "markdown",
   "metadata": {
    "slideshow": {
     "slide_type": "slide"
    }
   },
   "source": [
    "# \n",
    "\n",
    "1. remmant? Those would be particle-like, Planck-mass objects, and they could be long-lived or stable. But to contain missing information from an arbitrarily large initial black hole, they would need to have an arbitrarily large number of internal states that describe the possible configurations of the Hawking partners or all the things that could have been thrown into the black hole. ( counting the number of ways the\n",
    "black hole could have formed)\n",
    "\n",
    "2. The  black  hole  finishes  evaporating  into  ordinary  quanta  such  as  photons  and\n",
    "gravitons. "
   ]
  },
  {
   "cell_type": "markdown",
   "metadata": {
    "slideshow": {
     "slide_type": "slide"
    }
   },
   "source": [
    "2. awking argued for option (2), claiming that the process of black hole formation and\n",
    "evaporation cannot be described by a unitary map from the ingoing shell to the outgoing\n",
    "radiation,  since  this  would  have  resulted  in  a  pure  quantum  state  of  the  radiation.\n",
    "Moreover  since  different  initial  states  result  in  the  same  final  state,  he  claimed  that\n",
    "black holes violate the principle of information conservation.  Option (2) is thus usually\n",
    "referred to as\n",
    "information loss\n",
    "."
   ]
  },
  {
   "cell_type": "markdown",
   "metadata": {
    "slideshow": {
     "slide_type": "slide"
    }
   },
   "source": [
    "# Complementarity\n",
    "\n",
    "Black hole complementarity"
   ]
  },
  {
   "cell_type": "code",
   "execution_count": null,
   "metadata": {
    "slideshow": {
     "slide_type": "slide"
    }
   },
   "outputs": [],
   "source": [
    "Equivalnece"
   ]
  },
  {
   "cell_type": "markdown",
   "metadata": {
    "slideshow": {
     "slide_type": "slide"
    }
   },
   "source": [
    "Page 81 of susking book\n",
    "\n",
    "he early photons from the coal are entangled with excitations inside,  but the latter can\n",
    "imprint their quantum state onto later outgoing photons.  With the black hole, the internal\n",
    "excitations are behind the horizon, and cannot influence the state of later photons."
   ]
  },
  {
   "cell_type": "markdown",
   "metadata": {},
   "source": [
    "Links: \n",
    "The holographic principle\n",
    "    https://arxiv.org/pdf/hep-th/0203101.pdf\n",
    "    \n",
    "    4.1 in The Black Hole Information Problem\n",
    "    https://arxiv.org/pdf/1609.04036.pdf\n",
    "    \n",
    "   Amps: https://arxiv.org/pdf/1207.3123.pdf\n",
    "   \n",
    "   An Introduction to Black Hole Evaporation\n",
    "   https://arxiv.org/pdf/gr-qc/0010055.pdf\n",
    "   \n",
    "   \n",
    "   Jerusalem School\n",
    "   https://arxiv.org/pdf/1409.1231.pdf\n",
    "   \n",
    "   Sean Carroll give some linmks\n",
    "   \n",
    "   \n",
    "   Black holes and beyond\n",
    "   Samir\n",
    "   \n",
    "   Book\n",
    "   \n",
    "   The holohpragic universe susking\n",
    "   the history of war balckhole sussking\n",
    "        \n",
    "        \n",
    "        \n",
    "MIT vaina\n",
    " The Net Advance of Physics: BLACK HOLES \n",
    "http://web.mit.edu/redingtn/OldFiles/www/netadv/Xblackhole.html\n",
    "\n",
    "\n",
    "# http://qpt.physics.harvard.edu/simons/Polchinski.pdf"
   ]
  },
  {
   "cell_type": "markdown",
   "metadata": {},
   "source": [
    "Mediuma nd natuilius\n",
    "https://www.quantamagazine.org/stephen-hawkings-black-hole-paradox-keeps-physicists-puzzled-20180314/\n",
    "https://www.quantamagazine.org/wormhole-entanglement-and-the-firewall-paradox-20150424/\n",
    "https://www.quantamagazine.org/black-hole-firewalls-confound-theoretical-physicists-20121221/\n"
   ]
  }
 ],
 "metadata": {
  "celltoolbar": "Slideshow",
  "hide_input": false,
  "kernelspec": {
   "display_name": "Python 3",
   "language": "python",
   "name": "python3"
  },
  "language_info": {
   "codemirror_mode": {
    "name": "ipython",
    "version": 3
   },
   "file_extension": ".py",
   "mimetype": "text/x-python",
   "name": "python",
   "nbconvert_exporter": "python",
   "pygments_lexer": "ipython3",
   "version": "3.7.2"
  }
 },
 "nbformat": 4,
 "nbformat_minor": 2
}
